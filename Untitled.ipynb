{
 "cells": [
  {
   "cell_type": "code",
   "execution_count": 22,
   "metadata": {},
   "outputs": [],
   "source": [
    "from tkinter import *  \n",
    "from os import path\n"
   ]
  },
  {
   "cell_type": "code",
   "execution_count": 24,
   "metadata": {},
   "outputs": [],
   "source": [
    "\n",
    "def clicked():  \n",
    "    lbl.configure(text=\"Я же просил...\")  \n",
    "  \n",
    "  \n",
    "window = Tk()  \n",
    "window.title(\"анализ пост обработки программного пакета GLOBK \")  \n",
    "window.geometry('600x450')  \n",
    "lbl = Label(window, text=\"Координаты окна X\")  \n",
    "lbl.grid(column=0, row=0)  \n",
    "txt = Entry(window,width=10)  \n",
    "txt.grid(column=1, row=0)  \n",
    "btn = Button(window, text=\"Не нажимать!\", command=clicked)  \n",
    "btn.grid(column=2, row=0)\n",
    "window.mainloop()"
   ]
  },
  {
   "cell_type": "code",
   "execution_count": 7,
   "metadata": {},
   "outputs": [],
   "source": [
    "from tkinter import *  \n",
    "  \n",
    "  \n",
    "def clicked():  \n",
    "    res = \"Привет {}\".format(txt.get())  \n",
    "    lbl.configure(text=res)  \n",
    "  \n",
    "  \n",
    "window = Tk()  \n",
    "window.title(\"Добро пожаловать в приложение PythonRu\")  \n",
    "window.geometry('400x250')  \n",
    "lbl = Label(window, text=\"Привет\")  \n",
    "lbl.grid(column=0, row=0)  \n",
    "txt = Entry(window,width=10)  \n",
    "txt.grid(column=1, row=0)  \n",
    "btn = Button(window, text=\"Клик!\", command=clicked)  \n",
    "btn.grid(column=2, row=0)  \n",
    "window.mainloop()"
   ]
  },
  {
   "cell_type": "code",
   "execution_count": 20,
   "metadata": {},
   "outputs": [],
   "source": [
    "from tkinter.ttk import Progressbar  \n",
    "from tkinter import ttk  \n",
    "  \n",
    "  \n",
    "window = Tk()  \n",
    "window.title(\"Добро пожаловать в приложение PythonRu\")  \n",
    "window.geometry('400x250')  \n",
    "style = ttk.Style()  \n",
    "style.theme_use('default')  \n",
    "style.configure(\"black.Horizontal.TProgressbar\", background='olive')  \n",
    "bar = Progressbar(window, length=200, style='black.Horizontal.TProgressbar')  \n",
    "bar['value'] = 50  \n",
    "bar.grid(column=0, row=0)  \n",
    "window.mainloop()"
   ]
  },
  {
   "cell_type": "code",
   "execution_count": 12,
   "metadata": {},
   "outputs": [],
   "source": [
    "#pip install --upgrade pip\n",
    "#pip install pyqt5\n",
    "import sys  # sys нужен для передачи argv в QApplication\n",
    "from PyQt5 import QtWidgets\n",
    "from PyQt5.QtWidgets import  QApplication, QMainWindow"
   ]
  },
  {
   "cell_type": "code",
   "execution_count": null,
   "metadata": {},
   "outputs": [],
   "source": [
    "def application():\n",
    "    app = QApplication(sys.argv)\n",
    "    window = QMainWindow()\n",
    "    window.setWindowTitle('PROGA')"
   ]
  },
  {
   "cell_type": "code",
   "execution_count": null,
   "metadata": {},
   "outputs": [],
   "source": [
    "import sys\n",
    "from PyQt5.QtWidgets import *\n",
    "from PyQt5.QtGui import *\n",
    "from PyQt5.Qt import *\n",
    "from PyQt5.QtCore import *\n",
    "class Ui_MainWindow(object):\n",
    "    def setupUi(self, MainWindow):\n",
    "        MainWindow.setObjectName(\"MainWindow\")\n",
    "        MainWindow.resize(600, 400)\n",
    "        self.centralwidget = QtWidgets.QWidget(MainWindow)\n",
    "        self.centralwidget.setObjectName(\"centralwidget\")\n",
    "        self.label = QtWidgets.QLabel(self.centralwidget)\n",
    "        self.label.setGeometry(QtCore.QRect(0, 20, 221, 41))\n",
    "        self.label.setStyleSheet(\"background-color: rgb(0, 255, 127);\\n\"\n",
    "\"font: 12pt \\\"MS Shell Dlg 2\\\";\\n\"\n",
    "\"color: rgb(0, 0, 0);\")\n",
    "        self.label.setObjectName(\"label\")\n",
    "        self.pushButton = QtWidgets.QPushButton(self.centralwidget)\n",
    "        self.pushButton.setGeometry(QtCore.QRect(390, 330, 161, 41))\n",
    "        self.pushButton.setStyleSheet(\"background-color: rgb(255, 170, 0);\\n\"\n",
    "\"font: 75 14pt \\\"MS Shell Dlg 2\\\";\")\n",
    "        self.pushButton.setObjectName(\"pushButton\")\n",
    "        self.label_2 = QtWidgets.QLabel(self.centralwidget)\n",
    "        self.label_2.setGeometry(QtCore.QRect(0, 60, 221, 51))\n",
    "        self.label_2.setStyleSheet(\"\\n\"\n",
    "\"font: 75 12pt \\\"MS Shell Dlg 2\\\";\\n\"\n",
    "\"color: rgb(0, 0, 0);\\n\"\n",
    "\"background-color: rgb(0, 255, 127);\")\n",
    "        self.label_2.setObjectName(\"label_2\")\n",
    "        self.lineEdit = QtWidgets.QLineEdit(self.centralwidget)\n",
    "        self.lineEdit.setGeometry(QtCore.QRect(220, 30, 113, 20))\n",
    "        self.lineEdit.setObjectName(\"lineEdit\")\n",
    "        self.lineEdit_2 = QtWidgets.QLineEdit(self.centralwidget)\n",
    "        self.lineEdit_2.setGeometry(QtCore.QRect(220, 70, 113, 20))\n",
    "        self.lineEdit_2.setObjectName(\"lineEdit_2\")\n",
    "        MainWindow.setCentralWidget(self.centralwidget)\n",
    "        self.statusbar = QtWidgets.QStatusBar(MainWindow)\n",
    "        self.statusbar.setObjectName(\"statusbar\")\n",
    "        MainWindow.setStatusBar(self.statusbar)\n",
    "\n",
    "        self.retranslateUi(MainWindow)\n",
    "        QtCore.QMetaObject.connectSlotsByName(MainWindow)\n",
    "\n",
    "    def retranslateUi(self, MainWindow):\n",
    "        _translate = QtCore.QCoreApplication.translate\n",
    "        MainWindow.setWindowTitle(_translate(\"MainWindow\", \"postGLOBK\"))\n",
    "        self.label.setText(_translate(\"MainWindow\", \"Диапазон по координате X\"))\n",
    "        self.pushButton.setText(_translate(\"MainWindow\", \"Запуск\"))\n",
    "        self.label_2.setText(_translate(\"MainWindow\", \"Диапазон по координате Y\"))\n",
    "        \n",
    "        #tut moy kod\n",
    "\n",
    "\n",
    "if __name__ == \"__main__\":\n",
    "    import sys\n",
    "    app = QtWidgets.QApplication(sys.argv)\n",
    "    MainWindow = QtWidgets.QMainWindow()\n",
    "    ui = Ui_MainWindow()\n",
    "    ui.setupUi(MainWindow)\n",
    "    MainWindow.show()\n",
    "    sys.exit(app.exec_())\n"
   ]
  },
  {
   "cell_type": "code",
   "execution_count": 1,
   "metadata": {},
   "outputs": [],
   "source": [
    "import time\n",
    "from progress.bar import IncrementalBar\n"
   ]
  },
  {
   "cell_type": "code",
   "execution_count": 10,
   "metadata": {},
   "outputs": [
    {
     "name": "stdout",
     "output_type": "stream",
     "text": [
      "0\n",
      "1\n",
      "2\n",
      "3\n",
      "4\n",
      "5\n",
      "6\n",
      "7\n",
      "8\n",
      "9\n",
      "--- 1.0090579986572266 seconds ---\n"
     ]
    }
   ],
   "source": [
    "import time\n",
    "start_time = time.time()\n",
    "for i in range(0,10):\n",
    "    print(i)\n",
    "    time.sleep(0.1)\n",
    "    \n",
    "print(\"--- %s seconds ---\" % (time.time() - start_time))\n",
    " "
   ]
  },
  {
   "cell_type": "code",
   "execution_count": 2,
   "metadata": {},
   "outputs": [],
   "source": [
    "mylist = [1,2,3,4,5,6,7,8]\n",
    "\n",
    "bar = IncrementalBar('Countdown', max = len(mylist))\n",
    "\n",
    "for item in mylist:\n",
    "    bar.next()\n",
    "    time.sleep(1)\n",
    "\n",
    "bar.finish()"
   ]
  }
 ],
 "metadata": {
  "kernelspec": {
   "display_name": "Python 3",
   "language": "python",
   "name": "python3"
  },
  "language_info": {
   "codemirror_mode": {
    "name": "ipython",
    "version": 3
   },
   "file_extension": ".py",
   "mimetype": "text/x-python",
   "name": "python",
   "nbconvert_exporter": "python",
   "pygments_lexer": "ipython3",
   "version": "3.7.2"
  }
 },
 "nbformat": 4,
 "nbformat_minor": 4
}
